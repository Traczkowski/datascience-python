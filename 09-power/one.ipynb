{
 "cells": [
  {
   "cell_type": "code",
   "execution_count": 1,
   "metadata": {
    "collapsed": true
   },
   "outputs": [],
   "source": [
    "import numpy as np\n",
    "import pandas as pd\n",
    "import matplotlib.pyplot as plt\n",
    "%matplotlib inline"
   ]
  },
  {
   "cell_type": "code",
   "execution_count": 7,
   "metadata": {
    "collapsed": true
   },
   "outputs": [],
   "source": [
    "df = pd.read_csv('coke.txt', header=None)"
   ]
  },
  {
   "cell_type": "code",
   "execution_count": 8,
   "metadata": {},
   "outputs": [
    {
     "data": {
      "text/html": [
       "<div>\n",
       "<style>\n",
       "    .dataframe thead tr:only-child th {\n",
       "        text-align: right;\n",
       "    }\n",
       "\n",
       "    .dataframe thead th {\n",
       "        text-align: left;\n",
       "    }\n",
       "\n",
       "    .dataframe tbody tr th {\n",
       "        vertical-align: top;\n",
       "    }\n",
       "</style>\n",
       "<table border=\"1\" class=\"dataframe\">\n",
       "  <thead>\n",
       "    <tr style=\"text-align: right;\">\n",
       "      <th></th>\n",
       "      <th>0</th>\n",
       "    </tr>\n",
       "  </thead>\n",
       "  <tbody>\n",
       "    <tr>\n",
       "      <th>0</th>\n",
       "      <td>20.027288</td>\n",
       "    </tr>\n",
       "    <tr>\n",
       "      <th>1</th>\n",
       "      <td>21.031513</td>\n",
       "    </tr>\n",
       "    <tr>\n",
       "      <th>2</th>\n",
       "      <td>20.705451</td>\n",
       "    </tr>\n",
       "  </tbody>\n",
       "</table>\n",
       "</div>"
      ],
      "text/plain": [
       "           0\n",
       "0  20.027288\n",
       "1  21.031513\n",
       "2  20.705451"
      ]
     },
     "execution_count": 8,
     "metadata": {},
     "output_type": "execute_result"
    }
   ],
   "source": [
    "df.head(3)"
   ]
  },
  {
   "cell_type": "code",
   "execution_count": 10,
   "metadata": {
    "collapsed": true
   },
   "outputs": [],
   "source": [
    "weights = df[0]"
   ]
  },
  {
   "cell_type": "code",
   "execution_count": 20,
   "metadata": {
    "collapsed": true
   },
   "outputs": [],
   "source": [
    "m = weights.mean()"
   ]
  },
  {
   "cell_type": "code",
   "execution_count": 21,
   "metadata": {
    "collapsed": true
   },
   "outputs": [],
   "source": [
    "s = weights.std(ddof=0)"
   ]
  },
  {
   "cell_type": "code",
   "execution_count": 22,
   "metadata": {
    "collapsed": true
   },
   "outputs": [],
   "source": [
    "# h0 = 20.4\n",
    "# h1 = !20.4"
   ]
  },
  {
   "cell_type": "code",
   "execution_count": 25,
   "metadata": {
    "collapsed": true
   },
   "outputs": [],
   "source": [
    "se = s / (len(weights) ** 0.5)"
   ]
  },
  {
   "cell_type": "code",
   "execution_count": 27,
   "metadata": {},
   "outputs": [
    {
     "data": {
      "text/plain": [
       "(20.519861441022602, 0.95768221510418849, 0.083994286670484794)"
      ]
     },
     "execution_count": 27,
     "metadata": {},
     "output_type": "execute_result"
    }
   ],
   "source": [
    "m, s, se"
   ]
  },
  {
   "cell_type": "code",
   "execution_count": 28,
   "metadata": {
    "collapsed": true
   },
   "outputs": [],
   "source": [
    "import scipy.stats as scs"
   ]
  },
  {
   "cell_type": "code",
   "execution_count": 35,
   "metadata": {
    "collapsed": true
   },
   "outputs": [],
   "source": [
    "def plot_dist(m, se, c, label, plot=True):\n",
    "    rv = scs.norm(m, se)   # random variable\n",
    "    xrange = np.linspace(m - (4*se), m + (4*se), 1000) # an array of floating points, the x values\n",
    "    y = rv.pdf(xrange) # generating y values for a normal distribution across the xrange\n",
    "    if plot:\n",
    "        plt.plot(xrange, y, c=c, label=label) # plot of the curve\n",
    "        plt.axvline(x=m, c='k', linestyle='--') # plotting the mean value, black color\n",
    "    return rv # returning the random variable"
   ]
  },
  {
   "cell_type": "code",
   "execution_count": 36,
   "metadata": {},
   "outputs": [
    {
     "data": {
      "text/plain": [
       "<scipy.stats._distn_infrastructure.rv_frozen at 0x1a14715ef0>"
      ]
     },
     "execution_count": 36,
     "metadata": {},
     "output_type": "execute_result"
    },
    {
     "data": {
      "image/png": "[encoded data removed]",
      "text/plain": [
       "<matplotlib.figure.Figure at 0x1a147152e8>"
      ]
     },
     "metadata": {},
     "output_type": "display_data"
    }
   ],
   "source": [
    "plot_dist(m, se, c='r', label='H1')\n",
    "plot_dist(20.4, se, c='b', label='H0')"
   ]
  },
  {
   "cell_type": "code",
   "execution_count": 42,
   "metadata": {
    "collapsed": true
   },
   "outputs": [],
   "source": [
    "sem = scs.sem(weights)\n",
    "bounds = np.linspace(20.4-(4*sem), m+(4*sem), 100) # width of the plot\n",
    "reject_low = 20.4 - 1.96*sem\n",
    "reject_high = 20.4 + 1.96*sem\n",
    "ci_low = m-(1.96*sem) # confidence interval\n",
    "ci_high = m+(1.96*sem)"
   ]
  },
  {
   "cell_type": "code",
   "execution_count": 46,
   "metadata": {
    "collapsed": true
   },
   "outputs": [],
   "source": [
    "def plot_part0(bounds, m, sem, reject_low, reject_high, ci_low, ci_high):\n",
    "    y_s = scs.norm.pdf(bounds, loc=m, scale=sem)\n",
    "    y_h0 = scs.norm.pdf(bounds, loc=20.4, scale=sem)\n",
    "    plt.plot(bounds, y_s,label='sample')\n",
    "    plt.plot(bounds, y_h0, label='h0')\n",
    "    plt.axvline(x=reject_low, c='b', linestyle='--', label='rejection')\n",
    "    plt.axvline(x=reject_high, c='b', linestyle='--')\n",
    "    plt.axvline(x=ci_low, c='r', linestyle='--', label='95%')\n",
    "    plt.axvline(x=ci_high, c='r', linestyle='--')\n",
    "    plt.ylabel('probability')\n",
    "    plt.xlabel('weights')\n",
    "    plt.legend()"
   ]
  },
  {
   "cell_type": "code",
   "execution_count": 47,
   "metadata": {},
   "outputs": [
    {
     "data": {
      "image/png": "[encoded data removed]",
      "text/plain": [
       "<matplotlib.figure.Figure at 0x1a147d42b0>"
      ]
     },
     "metadata": {},
     "output_type": "display_data"
    }
   ],
   "source": [
    "plot_part0(bounds, m, sem, reject_low, reject_high, ci_low, ci_high)"
   ]
  },
  {
   "cell_type": "code",
   "execution_count": 52,
   "metadata": {
    "collapsed": true
   },
   "outputs": [],
   "source": [
    "def plot_ci(m, sem, c, plot=True, ci=0.95):\n",
    "    z = scs.norm.ppf(ci+(1-ci)/2)\n",
    "    lower_ci = m - z*sem\n",
    "    upper_ci = m + z*sem\n",
    "    rv = scs.norm(m, sem)\n",
    "    xrange = np.linspace(m - (4*sem), m + (4*sem), 1000)\n",
    "    y = rv.pdf(xrange)\n",
    "    if plot:\n",
    "        plt.plot(xrange, y, c=c)\n",
    "        plt.axvline(x=lower_ci, c=c, linestyle='--', alpha=0.3)\n",
    "        plt.axvline(x=upper_ci, c=c, linestyle='--', alpha=0.3)"
   ]
  },
  {
   "cell_type": "code",
   "execution_count": 53,
   "metadata": {},
   "outputs": [
    {
     "data": {
      "image/png": "[encoded data removed]",
      "text/plain": [
       "<matplotlib.figure.Figure at 0x1a147322b0>"
      ]
     },
     "metadata": {},
     "output_type": "display_data"
    }
   ],
   "source": [
    "plot_ci(m, sem, 'r')"
   ]
  },
  {
   "cell_type": "code",
   "execution_count": 65,
   "metadata": {
    "collapsed": true
   },
   "outputs": [],
   "source": [
    "def calc_power(data, null_mean, ci=0.95):\n",
    "    m = data.mean()\n",
    "    se = data.std(ddof=0) / (len(data) ** 0.5)\n",
    "    rv = scs.norm(null_mean, se)\n",
    "    srv = scs.norm(m, se)\n",
    "    z1 = rv.ppf(ci + (1-ci)/2)\n",
    "    z2 = rv.ppf((1-ci)/2)\n",
    "    return 1 - srv.cdf(z1) + srv.cdf(z2)"
   ]
  },
  {
   "cell_type": "code",
   "execution_count": 66,
   "metadata": {},
   "outputs": [
    {
     "data": {
      "text/plain": [
       "0.29738915298674196"
      ]
     },
     "execution_count": 66,
     "metadata": {},
     "output_type": "execute_result"
    }
   ],
   "source": [
    "calc_power(weights, 20.4)"
   ]
  },
  {
   "cell_type": "code",
   "execution_count": 70,
   "metadata": {
    "collapsed": true
   },
   "outputs": [],
   "source": [
    "def explore_power(data, null_mean, ci=0.95):\n",
    "    m = np.mean(data)\n",
    "    se = np.std(data, ddof=1) / np.sqrt(len(data))\n",
    "    null_norm = scs.norm(null_mean, se)\n",
    "    data_norm = scs.norm(m, se)\n",
    "    reject_low = null_norm.ppf((1-ci) / 2)\n",
    "    reject_high = null_norm.ppf(ci + (1-ci) / 2)\n",
    "    power_lower = data_norm.cdf(reject_low)\n",
    "    power_higher = 1 - data_norm.cdf(reject_high)\n",
    "    return power_lower + power_higher"
   ]
  },
  {
   "cell_type": "code",
   "execution_count": 71,
   "metadata": {},
   "outputs": [
    {
     "data": {
      "text/plain": [
       "0.29549570806326148"
      ]
     },
     "execution_count": 71,
     "metadata": {},
     "output_type": "execute_result"
    }
   ],
   "source": [
    "explore_power(weights, 20.4)"
   ]
  },
  {
   "cell_type": "code",
   "execution_count": 72,
   "metadata": {},
   "outputs": [
    {
     "data": {
      "text/plain": [
       "0.96663546292686098"
      ]
     },
     "execution_count": 72,
     "metadata": {},
     "output_type": "execute_result"
    }
   ],
   "source": [
    "explore_power(weights, 20.2)"
   ]
  },
  {
   "cell_type": "code",
   "execution_count": 80,
   "metadata": {},
   "outputs": [],
   "source": [
    "xs = np.linspace(20, 21, 10)\n",
    "ys = [explore_power(weights, x) for x in xs]"
   ]
  },
  {
   "cell_type": "code",
   "execution_count": 81,
   "metadata": {},
   "outputs": [
    {
     "data": {
      "text/plain": [
       "[<matplotlib.lines.Line2D at 0x1a1cf2def0>]"
      ]
     },
     "execution_count": 81,
     "metadata": {},
     "output_type": "execute_result"
    },
    {
     "data": {
      "image/png": "[encoded data removed]",
      "text/plain": [
       "<matplotlib.figure.Figure at 0x1a1cf488d0>"
      ]
     },
     "metadata": {},
     "output_type": "display_data"
    }
   ],
   "source": [
    "plt.plot(xs, ys)"
   ]
  },
  {
   "cell_type": "code",
   "execution_count": null,
   "metadata": {
    "collapsed": true
   },
   "outputs": [],
   "source": []
  }
 ],
 "metadata": {
  "kernelspec": {
   "display_name": "Python 3",
   "language": "python",
   "name": "python3"
  },
  "language_info": {
   "codemirror_mode": {
    "name": "ipython",
    "version": 3
   },
   "file_extension": ".py",
   "mimetype": "text/x-python",
   "name": "python",
   "nbconvert_exporter": "python",
   "pygments_lexer": "ipython3",
   "version": "3.6.3"
  }
 },
 "nbformat": 4,
 "nbformat_minor": 2
}
